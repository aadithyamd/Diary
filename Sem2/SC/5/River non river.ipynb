{
 "cells": [
  {
   "cell_type": "markdown",
   "metadata": {},
   "source": [
    "# River / Non river Assignment 5 "
   ]
  },
  {
   "cell_type": "markdown",
   "metadata": {},
   "source": [
    "### Roll no: MIT2018020\n",
    "\n",
    "1. Using Naive Bayesian classifier predict river non river using Satellite data set of Hooghly river (unstructured data set)."
   ]
  },
  {
   "cell_type": "code",
   "execution_count": 1,
   "metadata": {},
   "outputs": [],
   "source": [
    "import numpy as np\n",
    "import pandas as pd\n",
    "import matplotlib.pyplot as plt\n",
    "from sklearn.metrics import confusion_matrix"
   ]
  },
  {
   "cell_type": "code",
   "execution_count": 2,
   "metadata": {},
   "outputs": [],
   "source": [
    "import pathlib\n",
    "import imageio\n",
    "import numpy as np"
   ]
  },
  {
   "cell_type": "code",
   "execution_count": 3,
   "metadata": {},
   "outputs": [],
   "source": [
    "feature_paths = pathlib.Path('./river/images/').glob('*.gif')\n",
    "label_path = pathlib.Path('./river/images/label.jpeg')\n",
    "feature_sorted = sorted([x for x in feature_paths]) \n",
    "feature_sorted.append(label_path)"
   ]
  },
  {
   "cell_type": "code",
   "execution_count": 4,
   "metadata": {},
   "outputs": [
    {
     "data": {
      "text/plain": [
       "('<generator object Path.glob at 0x7f07ad8e84f8>',\n",
       " [PosixPath('river/images/1.gif'),\n",
       "  PosixPath('river/images/2.gif'),\n",
       "  PosixPath('river/images/3.gif'),\n",
       "  PosixPath('river/images/4.gif'),\n",
       "  PosixPath('river/images/label.jpeg')])"
      ]
     },
     "execution_count": 4,
     "metadata": {},
     "output_type": "execute_result"
    }
   ],
   "source": [
    "#im = imageio.imread(str(training_sorted))\n",
    "str(feature_paths), feature_sorted"
   ]
  },
  {
   "cell_type": "code",
   "execution_count": 6,
   "metadata": {},
   "outputs": [],
   "source": [
    "img = []\n",
    "for i in range(5):\n",
    "    im_path = feature_sorted[i]\n",
    "    im = imageio.imread(str(im_path))\n",
    "    img.append(np.array(im.reshape(-1)))"
   ]
  },
  {
   "cell_type": "code",
   "execution_count": 7,
   "metadata": {
    "scrolled": true
   },
   "outputs": [
    {
     "data": {
      "text/html": [
       "<div>\n",
       "<style scoped>\n",
       "    .dataframe tbody tr th:only-of-type {\n",
       "        vertical-align: middle;\n",
       "    }\n",
       "\n",
       "    .dataframe tbody tr th {\n",
       "        vertical-align: top;\n",
       "    }\n",
       "\n",
       "    .dataframe thead th {\n",
       "        text-align: right;\n",
       "    }\n",
       "</style>\n",
       "<table border=\"1\" class=\"dataframe\">\n",
       "  <thead>\n",
       "    <tr style=\"text-align: right;\">\n",
       "      <th></th>\n",
       "      <th>Rband</th>\n",
       "      <th>Gband</th>\n",
       "      <th>Bband</th>\n",
       "      <th>Iband</th>\n",
       "      <th>Label</th>\n",
       "    </tr>\n",
       "  </thead>\n",
       "  <tbody>\n",
       "    <tr>\n",
       "      <th>0</th>\n",
       "      <td>40</td>\n",
       "      <td>25</td>\n",
       "      <td>26</td>\n",
       "      <td>35</td>\n",
       "      <td>0</td>\n",
       "    </tr>\n",
       "    <tr>\n",
       "      <th>1</th>\n",
       "      <td>38</td>\n",
       "      <td>23</td>\n",
       "      <td>23</td>\n",
       "      <td>43</td>\n",
       "      <td>0</td>\n",
       "    </tr>\n",
       "    <tr>\n",
       "      <th>2</th>\n",
       "      <td>39</td>\n",
       "      <td>25</td>\n",
       "      <td>26</td>\n",
       "      <td>35</td>\n",
       "      <td>0</td>\n",
       "    </tr>\n",
       "    <tr>\n",
       "      <th>3</th>\n",
       "      <td>38</td>\n",
       "      <td>23</td>\n",
       "      <td>23</td>\n",
       "      <td>28</td>\n",
       "      <td>0</td>\n",
       "    </tr>\n",
       "    <tr>\n",
       "      <th>4</th>\n",
       "      <td>42</td>\n",
       "      <td>26</td>\n",
       "      <td>29</td>\n",
       "      <td>38</td>\n",
       "      <td>0</td>\n",
       "    </tr>\n",
       "  </tbody>\n",
       "</table>\n",
       "</div>"
      ],
      "text/plain": [
       "   Rband  Gband  Bband  Iband  Label\n",
       "0     40     25     26     35      0\n",
       "1     38     23     23     43      0\n",
       "2     39     25     26     35      0\n",
       "3     38     23     23     28      0\n",
       "4     42     26     29     38      0"
      ]
     },
     "execution_count": 7,
     "metadata": {},
     "output_type": "execute_result"
    }
   ],
   "source": [
    "np.random.seed(3)\n",
    "data = pd.DataFrame(np.array(img).T,).sample(frac=1).reset_index(drop=True)\n",
    "data = data.rename(index=str, columns={0:'Rband', 1:'Gband', 2:'Bband', 3:'Iband', 4:'Label'})\n",
    "data.head()"
   ]
  },
  {
   "cell_type": "code",
   "execution_count": 8,
   "metadata": {},
   "outputs": [],
   "source": [
    "x = data.iloc[:,:4]\n",
    "y = data.iloc[:,4] > 120"
   ]
  },
  {
   "cell_type": "markdown",
   "metadata": {},
   "source": [
    "50 River class and 100 Non River Class"
   ]
  },
  {
   "cell_type": "code",
   "execution_count": 9,
   "metadata": {},
   "outputs": [],
   "source": [
    "loc = np.append(np.where(y == True)[0][:50], np.where(y == False)[0][:100])\n",
    "x_train = x.iloc[loc]\n",
    "y_train = y.iloc[loc] "
   ]
  },
  {
   "cell_type": "code",
   "execution_count": null,
   "metadata": {},
   "outputs": [],
   "source": []
  },
  {
   "cell_type": "markdown",
   "metadata": {},
   "source": [
    "## Training"
   ]
  },
  {
   "cell_type": "code",
   "execution_count": 10,
   "metadata": {
    "scrolled": true
   },
   "outputs": [],
   "source": [
    "def train(x,y, alpha=1):\n",
    "    vocab = {'Rband':[],'Gband':[],'Bband':[],'Iband':[]}\n",
    "    freq_river = {'Rband':{},'Gband':{},'Bband':{},'Iband':{}}\n",
    "    freq_nonriver = {'Rband':{},'Gband':{},'Bband':{},'Iband':{}}\n",
    "    \n",
    "    for i in ['Rband','Gband','Bband','Iband']:\n",
    "        for j in range(150):\n",
    "            if x[i][j] not in vocab[i]:\n",
    "                vocab[i].append(x[i][j])\n",
    "                freq_river[i][x[i][j]] = 0\n",
    "                freq_nonriver[i][x[i][j]] = 0\n",
    "            if y[j] == True:\n",
    "                freq_river[i][x[i][j]] += 1\n",
    "            else:\n",
    "                freq_nonriver[i][x[i][j]] += 1\n",
    "    freq = {'river':freq_river, 'nonriver': freq_nonriver}\n",
    "    \n",
    "    return freq, vocab"
   ]
  },
  {
   "cell_type": "code",
   "execution_count": 11,
   "metadata": {},
   "outputs": [
    {
     "data": {
      "text/plain": [
       "{'river': {'Rband': {46: 1,\n",
       "   43: 17,\n",
       "   44: 19,\n",
       "   45: 13,\n",
       "   40: 0,\n",
       "   38: 0,\n",
       "   39: 0,\n",
       "   42: 0,\n",
       "   37: 0,\n",
       "   35: 0,\n",
       "   41: 0,\n",
       "   47: 0,\n",
       "   48: 0,\n",
       "   51: 0,\n",
       "   36: 0},\n",
       "  'Gband': {32: 2,\n",
       "   29: 12,\n",
       "   30: 24,\n",
       "   31: 10,\n",
       "   28: 2,\n",
       "   25: 0,\n",
       "   23: 0,\n",
       "   26: 0,\n",
       "   24: 0,\n",
       "   27: 0,\n",
       "   21: 0,\n",
       "   34: 0,\n",
       "   36: 0},\n",
       "  'Bband': {33: 1,\n",
       "   31: 27,\n",
       "   32: 15,\n",
       "   30: 5,\n",
       "   29: 2,\n",
       "   26: 0,\n",
       "   23: 0,\n",
       "   24: 0,\n",
       "   25: 0,\n",
       "   22: 0,\n",
       "   27: 0,\n",
       "   20: 0,\n",
       "   28: 0,\n",
       "   34: 0,\n",
       "   41: 0,\n",
       "   37: 0,\n",
       "   21: 0,\n",
       "   36: 0},\n",
       "  'Iband': {22: 12,\n",
       "   20: 8,\n",
       "   21: 28,\n",
       "   28: 1,\n",
       "   24: 1,\n",
       "   35: 0,\n",
       "   43: 0,\n",
       "   38: 0,\n",
       "   31: 0,\n",
       "   37: 0,\n",
       "   36: 0,\n",
       "   30: 0,\n",
       "   33: 0,\n",
       "   32: 0,\n",
       "   29: 0,\n",
       "   39: 0,\n",
       "   34: 0,\n",
       "   26: 0,\n",
       "   40: 0,\n",
       "   41: 0,\n",
       "   27: 0,\n",
       "   46: 0,\n",
       "   44: 0,\n",
       "   25: 0,\n",
       "   23: 0,\n",
       "   42: 0}},\n",
       " 'nonriver': {'Rband': {46: 2,\n",
       "   43: 9,\n",
       "   44: 5,\n",
       "   45: 0,\n",
       "   40: 19,\n",
       "   38: 14,\n",
       "   39: 16,\n",
       "   42: 15,\n",
       "   37: 3,\n",
       "   35: 1,\n",
       "   41: 11,\n",
       "   47: 2,\n",
       "   48: 1,\n",
       "   51: 1,\n",
       "   36: 1},\n",
       "  'Gband': {32: 1,\n",
       "   29: 3,\n",
       "   30: 3,\n",
       "   31: 1,\n",
       "   28: 12,\n",
       "   25: 18,\n",
       "   23: 11,\n",
       "   26: 17,\n",
       "   24: 21,\n",
       "   27: 9,\n",
       "   21: 2,\n",
       "   34: 1,\n",
       "   36: 1},\n",
       "  'Bband': {33: 1,\n",
       "   31: 5,\n",
       "   32: 1,\n",
       "   30: 7,\n",
       "   29: 9,\n",
       "   26: 18,\n",
       "   23: 8,\n",
       "   24: 16,\n",
       "   25: 9,\n",
       "   22: 3,\n",
       "   27: 5,\n",
       "   20: 3,\n",
       "   28: 8,\n",
       "   34: 1,\n",
       "   41: 2,\n",
       "   37: 1,\n",
       "   21: 2,\n",
       "   36: 1},\n",
       "  'Iband': {22: 1,\n",
       "   20: 0,\n",
       "   21: 0,\n",
       "   28: 5,\n",
       "   24: 0,\n",
       "   35: 6,\n",
       "   43: 2,\n",
       "   38: 3,\n",
       "   31: 11,\n",
       "   37: 6,\n",
       "   36: 9,\n",
       "   30: 5,\n",
       "   33: 6,\n",
       "   32: 10,\n",
       "   29: 7,\n",
       "   39: 4,\n",
       "   34: 6,\n",
       "   26: 1,\n",
       "   40: 6,\n",
       "   41: 2,\n",
       "   27: 5,\n",
       "   46: 1,\n",
       "   44: 1,\n",
       "   25: 1,\n",
       "   23: 1,\n",
       "   42: 1}}}"
      ]
     },
     "execution_count": 11,
     "metadata": {},
     "output_type": "execute_result"
    }
   ],
   "source": [
    "freq, vocab = train(x_train, y_train)\n",
    "freq"
   ]
  },
  {
   "cell_type": "code",
   "execution_count": 12,
   "metadata": {},
   "outputs": [
    {
     "name": "stdout",
     "output_type": "stream",
     "text": [
      "Rband\n",
      "Gband\n",
      "Bband\n",
      "Iband\n"
     ]
    }
   ],
   "source": [
    "for r in x:\n",
    "    print(r)"
   ]
  },
  {
   "cell_type": "markdown",
   "metadata": {},
   "source": [
    "## Bayes Rule for taking the decision\n",
    "\n",
    "### If $P(Ham | w_1) > P(Spam | w_1) $ <br> then <br>  $\\;\\;\\;\\;\\;\\;$ $Ham$ <br> else  <br> $\\;\\;\\;\\;\\;\\;$    $Spam$\n",
    "### $P(Spam | w_1) = \\frac{P(w_1 | Spam) x P(Spam)}{P(w_1)} $ <br>\n",
    "### $P(Ham | w_1) = \\frac{P(w_1 | Ham) x P(Ham)}{P(w_1)} $\n",
    "\n",
    "Here $P(w_1) $ in denominator is common for computing both probablities, so it is not required for the decision"
   ]
  },
  {
   "cell_type": "code",
   "execution_count": 5,
   "metadata": {},
   "outputs": [],
   "source": [
    "def predict_river(x, freq, vocab):\n",
    "    h = []\n",
    "    for j in range(x.shape[0]):\n",
    "        p_river = 1/3\n",
    "        p_nonriver = 2/3\n",
    "        for i in ['Rband','Gband','Bband','Iband']:\n",
    "            if x[i][j] in vocab[i]:\n",
    "                p_river *= freq['river'][i][x[i][j]] / 50\n",
    "                p_nonriver *= freq['nonriver'][i][x[i][j]] / 100            \n",
    "#             else:\n",
    "#                 p_river *= 1 / 51\n",
    "#                 p_nonriver *= 1 / 101\n",
    "        if p_river > p_nonriver:\n",
    "            h.append(1)\n",
    "        else:\n",
    "            h.append(0)\n",
    "    return np.array(h)"
   ]
  },
  {
   "cell_type": "code",
   "execution_count": 6,
   "metadata": {},
   "outputs": [],
   "source": [
    "def accuracy(h, y, freq, vocab) :\n",
    "    cm = confusion_matrix(y,h)\n",
    "    plot_cm(cm)\n",
    "    print(\"\\nTotal non River:\" + str(np.where(y == 0)[0].shape[0]))\n",
    "    print(\"Total River:\" + str(np.where(y == 1)[0].shape[0]))\n",
    "    \n",
    "    print(\"\\nPredicted non River:\" + str(np.where(h == 0)[0].shape[0]))\n",
    "    print(\"Predicted River:\" + str(np.where(h == 1)[0].shape[0]))\n",
    "    \n",
    "    error = np.abs(h - y).sum()\n",
    "    return (1 - error / data.shape[0] )* 100"
   ]
  },
  {
   "cell_type": "markdown",
   "metadata": {},
   "source": [
    "### Ploting Function\n",
    "\n",
    "Ref: https://www.tarekatwan.com/index.php/2017/12/how-to-plot-a-confusion-matrix-in-python/"
   ]
  },
  {
   "cell_type": "code",
   "execution_count": 7,
   "metadata": {},
   "outputs": [],
   "source": [
    "def plot_cm(cm):\n",
    "    plt.clf()\n",
    "    plt.imshow(cm, interpolation='nearest', cmap=plt.cm.Wistia)\n",
    "    classNames = ['Negative (Not River)','Positive (River)']\n",
    "    plt.title('River or Not River Confusion Matrix - Test Data')\n",
    "    plt.ylabel('True label')\n",
    "    plt.xlabel('Predicted label')\n",
    "    tick_marks = np.arange(len(classNames))\n",
    "    plt.xticks(tick_marks, classNames, rotation=45)\n",
    "    plt.yticks(tick_marks, classNames)\n",
    "    s = [['TN','FP'], ['FN', 'TP']]\n",
    "    for i in range(2):\n",
    "        for j in range(2):\n",
    "            plt.text(j,i, str(s[i][j])+\" = \"+str(cm[i][j]))\n",
    "    plt.show()"
   ]
  },
  {
   "cell_type": "code",
   "execution_count": 8,
   "metadata": {},
   "outputs": [
    {
     "ename": "NameError",
     "evalue": "name 'train' is not defined",
     "output_type": "error",
     "traceback": [
      "\u001b[0;31m---------------------------------------------------------------------------\u001b[0m",
      "\u001b[0;31mNameError\u001b[0m                                 Traceback (most recent call last)",
      "\u001b[0;32m<ipython-input-8-d8d442e1885d>\u001b[0m in \u001b[0;36m<module>\u001b[0;34m\u001b[0m\n\u001b[0;32m----> 1\u001b[0;31m \u001b[0mfreq\u001b[0m\u001b[0;34m,\u001b[0m \u001b[0mvocab\u001b[0m \u001b[0;34m=\u001b[0m \u001b[0mtrain\u001b[0m\u001b[0;34m(\u001b[0m\u001b[0mx_train\u001b[0m\u001b[0;34m,\u001b[0m \u001b[0my_train\u001b[0m\u001b[0;34m)\u001b[0m\u001b[0;34m\u001b[0m\u001b[0;34m\u001b[0m\u001b[0m\n\u001b[0m",
      "\u001b[0;31mNameError\u001b[0m: name 'train' is not defined"
     ]
    }
   ],
   "source": [
    "freq, vocab = train(x_train, y_train)\n"
   ]
  },
  {
   "cell_type": "code",
   "execution_count": 17,
   "metadata": {},
   "outputs": [
    {
     "data": {
      "image/png": "[encoded data removed]",
      "text/plain": [
       "<Figure size 432x288 with 1 Axes>"
      ]
     },
     "metadata": {
      "needs_background": "light"
     },
     "output_type": "display_data"
    },
    {
     "name": "stdout",
     "output_type": "stream",
     "text": [
      "\n",
      "Total non River:100\n",
      "Total River:50\n",
      "\n",
      "Predicted non River:100\n",
      "Predicted River:50\n"
     ]
    },
    {
     "data": {
      "text/plain": [
       "100.0"
      ]
     },
     "execution_count": 17,
     "metadata": {},
     "output_type": "execute_result"
    }
   ],
   "source": [
    "h = predict_river(x_train, freq, vocab)\n",
    "accuracy(h, y_train, freq, vocab)"
   ]
  },
  {
   "cell_type": "code",
   "execution_count": 18,
   "metadata": {},
   "outputs": [],
   "source": [
    "h = predict_river(x, freq, vocab)"
   ]
  },
  {
   "cell_type": "code",
   "execution_count": 19,
   "metadata": {},
   "outputs": [
    {
     "data": {
      "image/png": "[encoded data removed]",
      "text/plain": [
       "<Figure size 432x288 with 1 Axes>"
      ]
     },
     "metadata": {
      "needs_background": "light"
     },
     "output_type": "display_data"
    },
    {
     "name": "stdout",
     "output_type": "stream",
     "text": [
      "\n",
      "Total non River:252453\n",
      "Total River:9691\n",
      "\n",
      "Predicted non River:252501\n",
      "Predicted River:9643\n"
     ]
    },
    {
     "data": {
      "text/plain": [
       "99.1790771484375"
      ]
     },
     "execution_count": 19,
     "metadata": {},
     "output_type": "execute_result"
    }
   ],
   "source": [
    "accuracy(h, y, freq, vocab)"
   ]
  },
  {
   "cell_type": "code",
   "execution_count": 20,
   "metadata": {},
   "outputs": [],
   "source": [
    "x1 = pd.DataFrame(np.array(img).T,).iloc[:,:4]\n",
    "x1 = x1.rename(index=str, columns={0:'Rband', 1:'Gband', 2:'Bband', 3:'Iband'})"
   ]
  },
  {
   "cell_type": "code",
   "execution_count": 21,
   "metadata": {},
   "outputs": [],
   "source": [
    "pred = predict_river(x1, freq, vocab)"
   ]
  },
  {
   "cell_type": "code",
   "execution_count": 22,
   "metadata": {},
   "outputs": [],
   "source": [
    "pred[np.where(pred > 0)] = 255"
   ]
  },
  {
   "cell_type": "code",
   "execution_count": 23,
   "metadata": {},
   "outputs": [],
   "source": [
    "pred = pred.reshape(512,-1)"
   ]
  },
  {
   "cell_type": "code",
   "execution_count": 24,
   "metadata": {},
   "outputs": [
    {
     "data": {
      "text/plain": [
       "<matplotlib.image.AxesImage at 0x7f5b0002b8d0>"
      ]
     },
     "execution_count": 24,
     "metadata": {},
     "output_type": "execute_result"
    },
    {
     "data": {
      "image/png": "[encoded data removed]",
      "text/plain": [
       "<Figure size 432x288 with 1 Axes>"
      ]
     },
     "metadata": {
      "needs_background": "light"
     },
     "output_type": "display_data"
    }
   ],
   "source": [
    "plt.imshow(pred, cmap='gray')"
   ]
  },
  {
   "cell_type": "code",
   "execution_count": null,
   "metadata": {},
   "outputs": [],
   "source": []
  }
 ],
 "metadata": {
  "kernelspec": {
   "display_name": "Python 3",
   "language": "python",
   "name": "python3"
  },
  "language_info": {
   "codemirror_mode": {
    "name": "ipython",
    "version": 3
   },
   "file_extension": ".py",
   "mimetype": "text/x-python",
   "name": "python",
   "nbconvert_exporter": "python",
   "pygments_lexer": "ipython3",
   "version": "3.7.1"
  }
 },
 "nbformat": 4,
 "nbformat_minor": 2
}
