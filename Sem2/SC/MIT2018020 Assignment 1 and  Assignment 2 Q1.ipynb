{
 "cells": [
  {
   "cell_type": "markdown",
   "metadata": {},
   "source": [
    "# Assignment 1 & Assignment 2 Question 1\n",
    "\n",
    "MIT2018020 Aadithya\n",
    "\n",
    "Assignment 1\n",
    "\n",
    "2.We are given a housing price dataset. Using various parameters in the datasets we need to predict the housing price.\n",
    "\n",
    "    1. Predict housing price using normal equations method.\n",
    "    2. Predict housing price using gradient descent method.\n",
    "    3. Compare the results for both approaches.\n",
    "\n",
    "Assignment 2\n",
    "\n",
    "1.Use housing price dataset. Using various parameters in the datasets we need to predict the housing price.\n",
    "    1. Predict housing price using normal equations with regularizer.\n",
    "    2. Predict housing price using gradient descent with regulariser.\n",
    "    3. Compare the results for both approaches.\n",
    "\n",
    "    Design alpha and lambda parameters so that hypothesis will perform better.\n",
    "    Case 1:Use all dataset for training.\n",
    "    Case 2:70% to design hypothesis and 30% to test hypothesis\n",
    "\n",
    "    Find the differences and conclude analysis "
   ]
  },
  {
   "cell_type": "code",
   "execution_count": 1,
   "metadata": {},
   "outputs": [],
   "source": [
    "import numpy as np\n",
    "import pandas as pd\n",
    "import matplotlib.pyplot as plt"
   ]
  },
  {
   "cell_type": "code",
   "execution_count": 2,
   "metadata": {},
   "outputs": [
    {
     "data": {
      "text/html": [
       "<div>\n",
       "<style scoped>\n",
       "    .dataframe tbody tr th:only-of-type {\n",
       "        vertical-align: middle;\n",
       "    }\n",
       "\n",
       "    .dataframe tbody tr th {\n",
       "        vertical-align: top;\n",
       "    }\n",
       "\n",
       "    .dataframe thead th {\n",
       "        text-align: right;\n",
       "    }\n",
       "</style>\n",
       "<table border=\"1\" class=\"dataframe\">\n",
       "  <thead>\n",
       "    <tr style=\"text-align: right;\">\n",
       "      <th></th>\n",
       "      <th>Unnamed: 0</th>\n",
       "      <th>price</th>\n",
       "      <th>lotsize</th>\n",
       "      <th>bedrooms</th>\n",
       "      <th>bathrms</th>\n",
       "      <th>stories</th>\n",
       "      <th>garagepl</th>\n",
       "    </tr>\n",
       "  </thead>\n",
       "  <tbody>\n",
       "    <tr>\n",
       "      <th>count</th>\n",
       "      <td>546.000000</td>\n",
       "      <td>546.000000</td>\n",
       "      <td>546.000000</td>\n",
       "      <td>546.000000</td>\n",
       "      <td>546.000000</td>\n",
       "      <td>546.000000</td>\n",
       "      <td>546.000000</td>\n",
       "    </tr>\n",
       "    <tr>\n",
       "      <th>mean</th>\n",
       "      <td>273.500000</td>\n",
       "      <td>68121.597070</td>\n",
       "      <td>5150.265568</td>\n",
       "      <td>2.965201</td>\n",
       "      <td>1.285714</td>\n",
       "      <td>1.807692</td>\n",
       "      <td>0.692308</td>\n",
       "    </tr>\n",
       "    <tr>\n",
       "      <th>std</th>\n",
       "      <td>157.760895</td>\n",
       "      <td>26702.670926</td>\n",
       "      <td>2168.158725</td>\n",
       "      <td>0.737388</td>\n",
       "      <td>0.502158</td>\n",
       "      <td>0.868203</td>\n",
       "      <td>0.861307</td>\n",
       "    </tr>\n",
       "    <tr>\n",
       "      <th>min</th>\n",
       "      <td>1.000000</td>\n",
       "      <td>25000.000000</td>\n",
       "      <td>1650.000000</td>\n",
       "      <td>1.000000</td>\n",
       "      <td>1.000000</td>\n",
       "      <td>1.000000</td>\n",
       "      <td>0.000000</td>\n",
       "    </tr>\n",
       "    <tr>\n",
       "      <th>25%</th>\n",
       "      <td>137.250000</td>\n",
       "      <td>49125.000000</td>\n",
       "      <td>3600.000000</td>\n",
       "      <td>2.000000</td>\n",
       "      <td>1.000000</td>\n",
       "      <td>1.000000</td>\n",
       "      <td>0.000000</td>\n",
       "    </tr>\n",
       "    <tr>\n",
       "      <th>50%</th>\n",
       "      <td>273.500000</td>\n",
       "      <td>62000.000000</td>\n",
       "      <td>4600.000000</td>\n",
       "      <td>3.000000</td>\n",
       "      <td>1.000000</td>\n",
       "      <td>2.000000</td>\n",
       "      <td>0.000000</td>\n",
       "    </tr>\n",
       "    <tr>\n",
       "      <th>75%</th>\n",
       "      <td>409.750000</td>\n",
       "      <td>82000.000000</td>\n",
       "      <td>6360.000000</td>\n",
       "      <td>3.000000</td>\n",
       "      <td>2.000000</td>\n",
       "      <td>2.000000</td>\n",
       "      <td>1.000000</td>\n",
       "    </tr>\n",
       "    <tr>\n",
       "      <th>max</th>\n",
       "      <td>546.000000</td>\n",
       "      <td>190000.000000</td>\n",
       "      <td>16200.000000</td>\n",
       "      <td>6.000000</td>\n",
       "      <td>4.000000</td>\n",
       "      <td>4.000000</td>\n",
       "      <td>3.000000</td>\n",
       "    </tr>\n",
       "  </tbody>\n",
       "</table>\n",
       "</div>"
      ],
      "text/plain": [
       "       Unnamed: 0          price       lotsize    bedrooms     bathrms  \\\n",
       "count  546.000000     546.000000    546.000000  546.000000  546.000000   \n",
       "mean   273.500000   68121.597070   5150.265568    2.965201    1.285714   \n",
       "std    157.760895   26702.670926   2168.158725    0.737388    0.502158   \n",
       "min      1.000000   25000.000000   1650.000000    1.000000    1.000000   \n",
       "25%    137.250000   49125.000000   3600.000000    2.000000    1.000000   \n",
       "50%    273.500000   62000.000000   4600.000000    3.000000    1.000000   \n",
       "75%    409.750000   82000.000000   6360.000000    3.000000    2.000000   \n",
       "max    546.000000  190000.000000  16200.000000    6.000000    4.000000   \n",
       "\n",
       "          stories    garagepl  \n",
       "count  546.000000  546.000000  \n",
       "mean     1.807692    0.692308  \n",
       "std      0.868203    0.861307  \n",
       "min      1.000000    0.000000  \n",
       "25%      1.000000    0.000000  \n",
       "50%      2.000000    0.000000  \n",
       "75%      2.000000    1.000000  \n",
       "max      4.000000    3.000000  "
      ]
     },
     "execution_count": 2,
     "metadata": {},
     "output_type": "execute_result"
    }
   ],
   "source": [
    "df = pd.read_csv(\"Housing Price data set.csv\")\n",
    "df.describe()"
   ]
  },
  {
   "cell_type": "code",
   "execution_count": 3,
   "metadata": {},
   "outputs": [
    {
     "data": {
      "text/html": [
       "<div>\n",
       "<style scoped>\n",
       "    .dataframe tbody tr th:only-of-type {\n",
       "        vertical-align: middle;\n",
       "    }\n",
       "\n",
       "    .dataframe tbody tr th {\n",
       "        vertical-align: top;\n",
       "    }\n",
       "\n",
       "    .dataframe thead th {\n",
       "        text-align: right;\n",
       "    }\n",
       "</style>\n",
       "<table border=\"1\" class=\"dataframe\">\n",
       "  <thead>\n",
       "    <tr style=\"text-align: right;\">\n",
       "      <th></th>\n",
       "      <th>Unnamed: 0</th>\n",
       "      <th>price</th>\n",
       "      <th>lotsize</th>\n",
       "      <th>bedrooms</th>\n",
       "      <th>bathrms</th>\n",
       "      <th>stories</th>\n",
       "      <th>driveway</th>\n",
       "      <th>recroom</th>\n",
       "      <th>fullbase</th>\n",
       "      <th>gashw</th>\n",
       "      <th>airco</th>\n",
       "      <th>garagepl</th>\n",
       "      <th>prefarea</th>\n",
       "    </tr>\n",
       "  </thead>\n",
       "  <tbody>\n",
       "    <tr>\n",
       "      <th>0</th>\n",
       "      <td>1</td>\n",
       "      <td>42000.0</td>\n",
       "      <td>5850</td>\n",
       "      <td>3</td>\n",
       "      <td>1</td>\n",
       "      <td>2</td>\n",
       "      <td>yes</td>\n",
       "      <td>no</td>\n",
       "      <td>yes</td>\n",
       "      <td>no</td>\n",
       "      <td>no</td>\n",
       "      <td>1</td>\n",
       "      <td>no</td>\n",
       "    </tr>\n",
       "    <tr>\n",
       "      <th>1</th>\n",
       "      <td>2</td>\n",
       "      <td>38500.0</td>\n",
       "      <td>4000</td>\n",
       "      <td>2</td>\n",
       "      <td>1</td>\n",
       "      <td>1</td>\n",
       "      <td>yes</td>\n",
       "      <td>no</td>\n",
       "      <td>no</td>\n",
       "      <td>no</td>\n",
       "      <td>no</td>\n",
       "      <td>0</td>\n",
       "      <td>no</td>\n",
       "    </tr>\n",
       "    <tr>\n",
       "      <th>2</th>\n",
       "      <td>3</td>\n",
       "      <td>49500.0</td>\n",
       "      <td>3060</td>\n",
       "      <td>3</td>\n",
       "      <td>1</td>\n",
       "      <td>1</td>\n",
       "      <td>yes</td>\n",
       "      <td>no</td>\n",
       "      <td>no</td>\n",
       "      <td>no</td>\n",
       "      <td>no</td>\n",
       "      <td>0</td>\n",
       "      <td>no</td>\n",
       "    </tr>\n",
       "    <tr>\n",
       "      <th>3</th>\n",
       "      <td>4</td>\n",
       "      <td>60500.0</td>\n",
       "      <td>6650</td>\n",
       "      <td>3</td>\n",
       "      <td>1</td>\n",
       "      <td>2</td>\n",
       "      <td>yes</td>\n",
       "      <td>yes</td>\n",
       "      <td>no</td>\n",
       "      <td>no</td>\n",
       "      <td>no</td>\n",
       "      <td>0</td>\n",
       "      <td>no</td>\n",
       "    </tr>\n",
       "    <tr>\n",
       "      <th>4</th>\n",
       "      <td>5</td>\n",
       "      <td>61000.0</td>\n",
       "      <td>6360</td>\n",
       "      <td>2</td>\n",
       "      <td>1</td>\n",
       "      <td>1</td>\n",
       "      <td>yes</td>\n",
       "      <td>no</td>\n",
       "      <td>no</td>\n",
       "      <td>no</td>\n",
       "      <td>no</td>\n",
       "      <td>0</td>\n",
       "      <td>no</td>\n",
       "    </tr>\n",
       "  </tbody>\n",
       "</table>\n",
       "</div>"
      ],
      "text/plain": [
       "   Unnamed: 0    price  lotsize  bedrooms  bathrms  stories driveway recroom  \\\n",
       "0           1  42000.0     5850         3        1        2      yes      no   \n",
       "1           2  38500.0     4000         2        1        1      yes      no   \n",
       "2           3  49500.0     3060         3        1        1      yes      no   \n",
       "3           4  60500.0     6650         3        1        2      yes     yes   \n",
       "4           5  61000.0     6360         2        1        1      yes      no   \n",
       "\n",
       "  fullbase gashw airco  garagepl prefarea  \n",
       "0      yes    no    no         1       no  \n",
       "1       no    no    no         0       no  \n",
       "2       no    no    no         0       no  \n",
       "3       no    no    no         0       no  \n",
       "4       no    no    no         0       no  "
      ]
     },
     "execution_count": 3,
     "metadata": {},
     "output_type": "execute_result"
    }
   ],
   "source": [
    "df.head()"
   ]
  },
  {
   "cell_type": "code",
   "execution_count": 4,
   "metadata": {},
   "outputs": [
    {
     "data": {
      "text/plain": [
       "Unnamed: 0      int64\n",
       "price         float64\n",
       "lotsize         int64\n",
       "bedrooms        int64\n",
       "bathrms         int64\n",
       "stories         int64\n",
       "driveway       object\n",
       "recroom        object\n",
       "fullbase       object\n",
       "gashw          object\n",
       "airco          object\n",
       "garagepl        int64\n",
       "prefarea       object\n",
       "dtype: object"
      ]
     },
     "execution_count": 4,
     "metadata": {},
     "output_type": "execute_result"
    }
   ],
   "source": [
    "df.dtypes"
   ]
  },
  {
   "cell_type": "markdown",
   "metadata": {},
   "source": [
    "# Removing Catogorical features"
   ]
  },
  {
   "cell_type": "code",
   "execution_count": 5,
   "metadata": {},
   "outputs": [],
   "source": [
    "data = df.loc[:, ['lotsize', 'bedrooms', 'bathrms', 'stories', 'garagepl']]\n",
    "price = df.loc[:, ['price']]"
   ]
  },
  {
   "cell_type": "code",
   "execution_count": 6,
   "metadata": {},
   "outputs": [
    {
     "data": {
      "text/html": [
       "<div>\n",
       "<style scoped>\n",
       "    .dataframe tbody tr th:only-of-type {\n",
       "        vertical-align: middle;\n",
       "    }\n",
       "\n",
       "    .dataframe tbody tr th {\n",
       "        vertical-align: top;\n",
       "    }\n",
       "\n",
       "    .dataframe thead th {\n",
       "        text-align: right;\n",
       "    }\n",
       "</style>\n",
       "<table border=\"1\" class=\"dataframe\">\n",
       "  <thead>\n",
       "    <tr style=\"text-align: right;\">\n",
       "      <th></th>\n",
       "      <th>lotsize</th>\n",
       "      <th>bedrooms</th>\n",
       "      <th>bathrms</th>\n",
       "      <th>stories</th>\n",
       "      <th>garagepl</th>\n",
       "    </tr>\n",
       "  </thead>\n",
       "  <tbody>\n",
       "    <tr>\n",
       "      <th>0</th>\n",
       "      <td>5850</td>\n",
       "      <td>3</td>\n",
       "      <td>1</td>\n",
       "      <td>2</td>\n",
       "      <td>1</td>\n",
       "    </tr>\n",
       "    <tr>\n",
       "      <th>1</th>\n",
       "      <td>4000</td>\n",
       "      <td>2</td>\n",
       "      <td>1</td>\n",
       "      <td>1</td>\n",
       "      <td>0</td>\n",
       "    </tr>\n",
       "    <tr>\n",
       "      <th>2</th>\n",
       "      <td>3060</td>\n",
       "      <td>3</td>\n",
       "      <td>1</td>\n",
       "      <td>1</td>\n",
       "      <td>0</td>\n",
       "    </tr>\n",
       "    <tr>\n",
       "      <th>3</th>\n",
       "      <td>6650</td>\n",
       "      <td>3</td>\n",
       "      <td>1</td>\n",
       "      <td>2</td>\n",
       "      <td>0</td>\n",
       "    </tr>\n",
       "    <tr>\n",
       "      <th>4</th>\n",
       "      <td>6360</td>\n",
       "      <td>2</td>\n",
       "      <td>1</td>\n",
       "      <td>1</td>\n",
       "      <td>0</td>\n",
       "    </tr>\n",
       "  </tbody>\n",
       "</table>\n",
       "</div>"
      ],
      "text/plain": [
       "   lotsize  bedrooms  bathrms  stories  garagepl\n",
       "0     5850         3        1        2         1\n",
       "1     4000         2        1        1         0\n",
       "2     3060         3        1        1         0\n",
       "3     6650         3        1        2         0\n",
       "4     6360         2        1        1         0"
      ]
     },
     "execution_count": 6,
     "metadata": {},
     "output_type": "execute_result"
    }
   ],
   "source": [
    "data.head()"
   ]
  },
  {
   "cell_type": "markdown",
   "metadata": {},
   "source": [
    "# Normalising"
   ]
  },
  {
   "cell_type": "code",
   "execution_count": 7,
   "metadata": {},
   "outputs": [],
   "source": [
    "mean = data.mean()\n",
    "std  = data.std()\n",
    "normalized_data = (data - mean) / std"
   ]
  },
  {
   "cell_type": "code",
   "execution_count": 8,
   "metadata": {},
   "outputs": [
    {
     "data": {
      "text/plain": [
       "lotsize     2168.158725\n",
       "bedrooms       0.737388\n",
       "bathrms        0.502158\n",
       "stories        0.868203\n",
       "garagepl       0.861307\n",
       "dtype: float64"
      ]
     },
     "execution_count": 8,
     "metadata": {},
     "output_type": "execute_result"
    }
   ],
   "source": [
    "std"
   ]
  },
  {
   "cell_type": "code",
   "execution_count": 9,
   "metadata": {},
   "outputs": [
    {
     "data": {
      "text/plain": [
       "lotsize     5150.265568\n",
       "bedrooms       2.965201\n",
       "bathrms        1.285714\n",
       "stories        1.807692\n",
       "garagepl       0.692308\n",
       "dtype: float64"
      ]
     },
     "execution_count": 9,
     "metadata": {},
     "output_type": "execute_result"
    }
   ],
   "source": [
    "mean"
   ]
  },
  {
   "cell_type": "code",
   "execution_count": 10,
   "metadata": {},
   "outputs": [
    {
     "data": {
      "text/html": [
       "<div>\n",
       "<style scoped>\n",
       "    .dataframe tbody tr th:only-of-type {\n",
       "        vertical-align: middle;\n",
       "    }\n",
       "\n",
       "    .dataframe tbody tr th {\n",
       "        vertical-align: top;\n",
       "    }\n",
       "\n",
       "    .dataframe thead th {\n",
       "        text-align: right;\n",
       "    }\n",
       "</style>\n",
       "<table border=\"1\" class=\"dataframe\">\n",
       "  <thead>\n",
       "    <tr style=\"text-align: right;\">\n",
       "      <th></th>\n",
       "      <th>lotsize</th>\n",
       "      <th>bedrooms</th>\n",
       "      <th>bathrms</th>\n",
       "      <th>stories</th>\n",
       "      <th>garagepl</th>\n",
       "    </tr>\n",
       "  </thead>\n",
       "  <tbody>\n",
       "    <tr>\n",
       "      <th>0</th>\n",
       "      <td>0.322732</td>\n",
       "      <td>0.047192</td>\n",
       "      <td>-0.568973</td>\n",
       "      <td>0.221501</td>\n",
       "      <td>0.357239</td>\n",
       "    </tr>\n",
       "    <tr>\n",
       "      <th>1</th>\n",
       "      <td>-0.530526</td>\n",
       "      <td>-1.308947</td>\n",
       "      <td>-0.568973</td>\n",
       "      <td>-0.930304</td>\n",
       "      <td>-0.803788</td>\n",
       "    </tr>\n",
       "    <tr>\n",
       "      <th>2</th>\n",
       "      <td>-0.964074</td>\n",
       "      <td>0.047192</td>\n",
       "      <td>-0.568973</td>\n",
       "      <td>-0.930304</td>\n",
       "      <td>-0.803788</td>\n",
       "    </tr>\n",
       "    <tr>\n",
       "      <th>3</th>\n",
       "      <td>0.691709</td>\n",
       "      <td>0.047192</td>\n",
       "      <td>-0.568973</td>\n",
       "      <td>0.221501</td>\n",
       "      <td>-0.803788</td>\n",
       "    </tr>\n",
       "    <tr>\n",
       "      <th>4</th>\n",
       "      <td>0.557955</td>\n",
       "      <td>-1.308947</td>\n",
       "      <td>-0.568973</td>\n",
       "      <td>-0.930304</td>\n",
       "      <td>-0.803788</td>\n",
       "    </tr>\n",
       "  </tbody>\n",
       "</table>\n",
       "</div>"
      ],
      "text/plain": [
       "    lotsize  bedrooms   bathrms   stories  garagepl\n",
       "0  0.322732  0.047192 -0.568973  0.221501  0.357239\n",
       "1 -0.530526 -1.308947 -0.568973 -0.930304 -0.803788\n",
       "2 -0.964074  0.047192 -0.568973 -0.930304 -0.803788\n",
       "3  0.691709  0.047192 -0.568973  0.221501 -0.803788\n",
       "4  0.557955 -1.308947 -0.568973 -0.930304 -0.803788"
      ]
     },
     "execution_count": 10,
     "metadata": {},
     "output_type": "execute_result"
    }
   ],
   "source": [
    "normalized_data.head()"
   ]
  },
  {
   "cell_type": "code",
   "execution_count": 11,
   "metadata": {
    "scrolled": true
   },
   "outputs": [],
   "source": [
    "normalized_data['bias'] = np.ones(normalized_data.shape[0])\n",
    "x = normalized_data.loc[:,['bias', 'lotsize', 'bedrooms', 'bathrms', 'stories', 'garagepl']]"
   ]
  },
  {
   "cell_type": "code",
   "execution_count": 30,
   "metadata": {
    "scrolled": true
   },
   "outputs": [
    {
     "data": {
      "text/html": [
       "<div>\n",
       "<style scoped>\n",
       "    .dataframe tbody tr th:only-of-type {\n",
       "        vertical-align: middle;\n",
       "    }\n",
       "\n",
       "    .dataframe tbody tr th {\n",
       "        vertical-align: top;\n",
       "    }\n",
       "\n",
       "    .dataframe thead th {\n",
       "        text-align: right;\n",
       "    }\n",
       "</style>\n",
       "<table border=\"1\" class=\"dataframe\">\n",
       "  <thead>\n",
       "    <tr style=\"text-align: right;\">\n",
       "      <th></th>\n",
       "      <th>bias</th>\n",
       "      <th>lotsize</th>\n",
       "      <th>bedrooms</th>\n",
       "      <th>bathrms</th>\n",
       "      <th>stories</th>\n",
       "      <th>garagepl</th>\n",
       "    </tr>\n",
       "  </thead>\n",
       "  <tbody>\n",
       "    <tr>\n",
       "      <th>0</th>\n",
       "      <td>1.0</td>\n",
       "      <td>0.322732</td>\n",
       "      <td>0.047192</td>\n",
       "      <td>-0.568973</td>\n",
       "      <td>0.221501</td>\n",
       "      <td>0.357239</td>\n",
       "    </tr>\n",
       "    <tr>\n",
       "      <th>1</th>\n",
       "      <td>1.0</td>\n",
       "      <td>-0.530526</td>\n",
       "      <td>-1.308947</td>\n",
       "      <td>-0.568973</td>\n",
       "      <td>-0.930304</td>\n",
       "      <td>-0.803788</td>\n",
       "    </tr>\n",
       "    <tr>\n",
       "      <th>2</th>\n",
       "      <td>1.0</td>\n",
       "      <td>-0.964074</td>\n",
       "      <td>0.047192</td>\n",
       "      <td>-0.568973</td>\n",
       "      <td>-0.930304</td>\n",
       "      <td>-0.803788</td>\n",
       "    </tr>\n",
       "    <tr>\n",
       "      <th>3</th>\n",
       "      <td>1.0</td>\n",
       "      <td>0.691709</td>\n",
       "      <td>0.047192</td>\n",
       "      <td>-0.568973</td>\n",
       "      <td>0.221501</td>\n",
       "      <td>-0.803788</td>\n",
       "    </tr>\n",
       "    <tr>\n",
       "      <th>4</th>\n",
       "      <td>1.0</td>\n",
       "      <td>0.557955</td>\n",
       "      <td>-1.308947</td>\n",
       "      <td>-0.568973</td>\n",
       "      <td>-0.930304</td>\n",
       "      <td>-0.803788</td>\n",
       "    </tr>\n",
       "  </tbody>\n",
       "</table>\n",
       "</div>"
      ],
      "text/plain": [
       "   bias   lotsize  bedrooms   bathrms   stories  garagepl\n",
       "0   1.0  0.322732  0.047192 -0.568973  0.221501  0.357239\n",
       "1   1.0 -0.530526 -1.308947 -0.568973 -0.930304 -0.803788\n",
       "2   1.0 -0.964074  0.047192 -0.568973 -0.930304 -0.803788\n",
       "3   1.0  0.691709  0.047192 -0.568973  0.221501 -0.803788\n",
       "4   1.0  0.557955 -1.308947 -0.568973 -0.930304 -0.803788"
      ]
     },
     "execution_count": 30,
     "metadata": {},
     "output_type": "execute_result"
    }
   ],
   "source": [
    "x.head()"
   ]
  },
  {
   "cell_type": "code",
   "execution_count": 13,
   "metadata": {},
   "outputs": [],
   "source": [
    "def cost(x, y, w, lamb):\n",
    "    m = len(y)\n",
    "    return (np.sum((np.dot(x, w) - y) ** 2) + lamb * np.matmul(w.T,w)[0][0])/ (2 * m)    "
   ]
  },
  {
   "cell_type": "code",
   "execution_count": 14,
   "metadata": {},
   "outputs": [],
   "source": [
    "alpha = 0.001\n",
    "iterations = 10000\n",
    "y = price\n",
    "lamb = 500"
   ]
  },
  {
   "cell_type": "code",
   "execution_count": 15,
   "metadata": {},
   "outputs": [],
   "source": [
    "def gradient_descend(x, y, alpha, lamb, iterations):\n",
    "    m = len(y)\n",
    "    cost_list = []\n",
    "    w = np.zeros((6,1))\n",
    "\n",
    "    for i in range(iterations):\n",
    "        w1 = np.array(w, copy=True)\n",
    "        w1[0,0] = 0\n",
    "        grade = (np.dot(x.T,(np.dot(x,w) - y)) + lamb * w1) / m\n",
    "\n",
    "        w = w - alpha * grade\n",
    "        cost_list.append(cost(x, y, w, lamb))\n",
    "        \n",
    "    return cost_list, w\n",
    "    "
   ]
  },
  {
   "cell_type": "code",
   "execution_count": 16,
   "metadata": {},
   "outputs": [],
   "source": [
    "def rms_error(x, y, w):\n",
    "    h = np.dot(x, w)\n",
    "    e = np.dot((h - y).T,(h - y)) / len(y)\n",
    "    return np.sqrt(e[0][0])\n",
    "\n",
    "def avg_per_error(x, y, w):\n",
    "    e = np.abs(np.dot(1/y.T,np.abs(np.dot(x, w) - y)))\n",
    "    return ((e)[0][0] * 100) / len(y)"
   ]
  },
  {
   "cell_type": "code",
   "execution_count": 17,
   "metadata": {},
   "outputs": [],
   "source": [
    "def normal_eq(x,y,lamb):\n",
    "    X = np.array(x)\n",
    "    eye = np.eye(X.shape[1])\n",
    "    eye[0,0] = 0\n",
    "    return np.matmul(np.linalg.inv(np.matmul(X.T,X) + lamb * eye), np.matmul(X.T,y))    "
   ]
  },
  {
   "cell_type": "code",
   "execution_count": 18,
   "metadata": {
    "scrolled": false
   },
   "outputs": [
    {
     "name": "stdout",
     "output_type": "stream",
     "text": [
      "Normal equation\n",
      "Lambda = 5\n",
      "Weight Matrix\n",
      "[[68121.5970696 ]\n",
      " [10180.92166978]\n",
      " [ 1800.13130095]\n",
      " [ 8054.89090815]\n",
      " [ 6787.46493298]\n",
      " [ 4619.95056808]]\n",
      "\n",
      "\n",
      " 17669.945040212497 \n",
      " 20.693984561166975\n"
     ]
    }
   ],
   "source": [
    "w = normal_eq(x,y,5)\n",
    "print(\"Normal equation\\nLambda = 5\\nWeight Matrix\")\n",
    "print(w)\n",
    "print('\\n\\n',rms_error(x,y,w),'\\n',avg_per_error(x,y,w))"
   ]
  },
  {
   "cell_type": "code",
   "execution_count": 19,
   "metadata": {},
   "outputs": [
    {
     "name": "stdout",
     "output_type": "stream",
     "text": [
      "Normal equation\n",
      "Lambda = 50\n",
      "Weight Matrix\n",
      "[[68121.5970696 ]\n",
      " [ 9509.2944365 ]\n",
      " [ 2081.09424174]\n",
      " [ 7609.63564453]\n",
      " [ 6355.89000123]\n",
      " [ 4541.65189742]]\n",
      "\n",
      "\n",
      " 17705.17660058834 \n",
      " 20.804810215531578\n"
     ]
    }
   ],
   "source": [
    "w = normal_eq(x,y,50)\n",
    "print(\"Normal equation\\nLambda = 50\\nWeight Matrix\")\n",
    "print(w)\n",
    "print('\\n\\n',rms_error(x,y,w),'\\n',avg_per_error(x,y,w))"
   ]
  },
  {
   "cell_type": "code",
   "execution_count": 20,
   "metadata": {},
   "outputs": [
    {
     "name": "stdout",
     "output_type": "stream",
     "text": [
      "Normal equation\n",
      "Lambda = 500\n",
      "Weight Matrix\n",
      "[[68121.5970696 ]\n",
      " [ 5924.5024702 ]\n",
      " [ 2509.39122415]\n",
      " [ 5083.90182309]\n",
      " [ 4134.68053841]\n",
      " [ 3499.55878031]]\n",
      "\n",
      "\n",
      " 19025.58539541043 \n",
      " 23.111549222958622\n"
     ]
    }
   ],
   "source": [
    "w = normal_eq(x,y,500)\n",
    "print(\"Normal equation\\nLambda = 500\\nWeight Matrix\")\n",
    "print(w)\n",
    "\n",
    "print('\\n\\n',rms_error(x,y,w),'\\n',avg_per_error(x,y,w))"
   ]
  },
  {
   "cell_type": "code",
   "execution_count": 21,
   "metadata": {},
   "outputs": [
    {
     "name": "stdout",
     "output_type": "stream",
     "text": [
      "alpha = 0.01 \n",
      "lambda = 5      \n",
      "No of iterations = 1400\n",
      "Weight\n",
      "[[68121.54427892]\n",
      " [10180.68282169]\n",
      " [ 1801.09056678]\n",
      " [ 8054.57662314]\n",
      " [ 6786.81616919]\n",
      " [ 4620.08726839]]\n",
      "Percentage Error: 20.694041495732595%\n"
     ]
    },
    {
     "data": {
      "image/png": "[encoded data removed]",
      "text/plain": [
       "<Figure size 288x216 with 1 Axes>"
      ]
     },
     "metadata": {
      "needs_background": "light"
     },
     "output_type": "display_data"
    }
   ],
   "source": [
    "cost_list, w = gradient_descend(x, y, alpha=0.01, lamb=5, iterations=1400)\n",
    "plt.figure(figsize=(4,3))\n",
    "plt.plot(cost_list)\n",
    "plt.xlabel('Iterations')\n",
    "plt.ylabel('Cost')\n",
    "plt.title(\"Regularised GD \")\n",
    "print(\"alpha = {} \\nlambda = {}\\\n",
    "      \\nNo of iterations = {}\\nWeight\".format(0.01, 5,1400))\n",
    "print(w)\n",
    "\n",
    "\n",
    "p = avg_per_error(x,y,w)\n",
    "print(\"Percentage Error: \"+str(p)+\"%\")"
   ]
  },
  {
   "cell_type": "code",
   "execution_count": 22,
   "metadata": {},
   "outputs": [
    {
     "name": "stdout",
     "output_type": "stream",
     "text": [
      "alpha = 0.1 \n",
      "lambda = 5      \n",
      "No of iterations = 140\n",
      "Weight\n",
      "[[68121.57032499]\n",
      " [10180.74550733]\n",
      " [ 1800.8928887 ]\n",
      " [ 8054.64427152]\n",
      " [ 6786.94642289]\n",
      " [ 4620.0448891 ]]\n",
      "Percentage Error: 20.694033627952123%\n"
     ]
    },
    {
     "data": {
      "image/png": "[encoded data removed]",
      "text/plain": [
       "<Figure size 288x216 with 1 Axes>"
      ]
     },
     "metadata": {
      "needs_background": "light"
     },
     "output_type": "display_data"
    }
   ],
   "source": [
    "cost_list, w = gradient_descend(x, y, alpha=0.1, lamb=5, iterations=140)\n",
    "plt.figure(figsize=(4,3))\n",
    "plt.plot(cost_list)\n",
    "plt.xlabel('Iterations')\n",
    "plt.ylabel('Cost')\n",
    "plt.title(\"Regularised GD \")\n",
    "print(\"alpha = {} \\nlambda = {}\\\n",
    "      \\nNo of iterations = {}\\nWeight\".format(0.1, 5,140))\n",
    "print(w)\n",
    "\n",
    "p = avg_per_error(x,y,w)\n",
    "print(\"Percentage Error: \"+str(p)+\"%\")"
   ]
  },
  {
   "cell_type": "code",
   "execution_count": 23,
   "metadata": {},
   "outputs": [
    {
     "name": "stdout",
     "output_type": "stream",
     "text": [
      "alpha = 0.01 \n",
      "lambda = 50      \n",
      "No of iterations = 1250\n",
      "Weight\n",
      "[[68121.35868507]\n",
      " [ 9509.08539473]\n",
      " [ 2081.82181062]\n",
      " [ 7609.39136792]\n",
      " [ 6355.40505609]\n",
      " [ 4541.78490268]]\n",
      "Percentage Error: 20.804812228996056%\n"
     ]
    },
    {
     "data": {
      "image/png": "[encoded data removed]",
      "text/plain": [
       "<Figure size 288x216 with 1 Axes>"
      ]
     },
     "metadata": {
      "needs_background": "light"
     },
     "output_type": "display_data"
    }
   ],
   "source": [
    "cost_list, w = gradient_descend(x, y, alpha=0.01, lamb=50, iterations=1250)\n",
    "plt.figure(figsize=(4,3))\n",
    "plt.plot(cost_list)\n",
    "plt.xlabel('Iterations')\n",
    "plt.ylabel('Cost')\n",
    "plt.title(\"Regularised GD \")\n",
    "print(\"alpha = {} \\nlambda = {}\\\n",
    "      \\nNo of iterations = {}\\nWeight\".format(0.01, 50,1250))\n",
    "print(w)\n",
    "\n",
    "\n",
    "p = avg_per_error(x,y,w)\n",
    "print(\"Percentage Error: \"+str(p)+\"%\")"
   ]
  },
  {
   "cell_type": "code",
   "execution_count": 24,
   "metadata": {},
   "outputs": [
    {
     "name": "stdout",
     "output_type": "stream",
     "text": [
      "alpha = 0.1 \n",
      "lambda = 50      \n",
      "No of iterations = 125\n",
      "Weight\n",
      "[[68121.46717278]\n",
      " [ 9509.14590025]\n",
      " [ 2081.64981782]\n",
      " [ 7609.45135899]\n",
      " [ 6355.516903  ]\n",
      " [ 4541.74189986]]\n",
      "Percentage Error: 20.804831717286994%\n"
     ]
    },
    {
     "data": {
      "image/png": "[encoded data removed]",
      "text/plain": [
       "<Figure size 288x216 with 1 Axes>"
      ]
     },
     "metadata": {
      "needs_background": "light"
     },
     "output_type": "display_data"
    }
   ],
   "source": [
    "cost_list, w = gradient_descend(x, y, alpha=0.1, lamb=50, iterations=125)\n",
    "plt.figure(figsize=(4,3))\n",
    "plt.plot(cost_list)\n",
    "plt.xlabel('Iterations')\n",
    "plt.ylabel('Cost')\n",
    "plt.title(\"Regularised GD \")\n",
    "print(\"alpha = {} \\nlambda = {}\\\n",
    "      \\nNo of iterations = {}\\nWeight\".format(0.1, 50,125))\n",
    "print(w)\n",
    "\n",
    "\n",
    "p = avg_per_error(x,y,w)\n",
    "print(\"Percentage Error: \"+str(p)+\"%\")"
   ]
  },
  {
   "cell_type": "code",
   "execution_count": 25,
   "metadata": {},
   "outputs": [
    {
     "name": "stdout",
     "output_type": "stream",
     "text": [
      "alpha = 0.01 \n",
      "lambda = 500      \n",
      "No of iterations = 1200\n",
      "Weight\n",
      "[[47616.08154036]\n",
      " [ 5521.64418099]\n",
      " [ 2670.02216119]\n",
      " [ 4844.96190263]\n",
      " [ 3921.39613278]\n",
      " [ 3441.80776798]]\n",
      "Percentage Error: 28.78620058570091%\n"
     ]
    },
    {
     "data": {
      "image/png": "[encoded data removed]",
      "text/plain": [
       "<Figure size 288x216 with 1 Axes>"
      ]
     },
     "metadata": {
      "needs_background": "light"
     },
     "output_type": "display_data"
    }
   ],
   "source": [
    "cost_list, w = gradient_descend(x, y, alpha=0.001, lamb=500, iterations=1200)\n",
    "plt.figure(figsize=(4,3))\n",
    "plt.plot(cost_list)\n",
    "plt.xlabel('Iterations')\n",
    "plt.ylabel('Cost')\n",
    "plt.title(\"Regularised GD \")\n",
    "print(\"alpha = {} \\nlambda = {}\\\n",
    "      \\nNo of iterations = {}\\nWeight\".format(0.01, 500,1200))\n",
    "print(w)\n",
    "\n",
    "p = avg_per_error(x,y,w)\n",
    "print(\"Percentage Error: \"+str(p)+\"%\")"
   ]
  },
  {
   "cell_type": "code",
   "execution_count": 26,
   "metadata": {},
   "outputs": [
    {
     "name": "stdout",
     "output_type": "stream",
     "text": [
      "alpha = 0.1 \n",
      "lambda = 500      \n",
      "No of iterations = 120\n",
      "Weight\n",
      "[[68121.3770882 ]\n",
      " [ 5924.50246877]\n",
      " [ 2509.39122949]\n",
      " [ 5083.90182132]\n",
      " [ 4134.68053483]\n",
      " [ 3499.55878118]]\n",
      "Percentage Error: 23.111412027905768%\n"
     ]
    },
    {
     "data": {
      "image/png": "[encoded data removed]",
      "text/plain": [
       "<Figure size 288x216 with 1 Axes>"
      ]
     },
     "metadata": {
      "needs_background": "light"
     },
     "output_type": "display_data"
    }
   ],
   "source": [
    "cost_list, w = gradient_descend(x, y, alpha=0.1, lamb=500, iterations=120)\n",
    "plt.figure(figsize=(4,3))\n",
    "plt.plot(cost_list)\n",
    "plt.xlabel('Iterations')\n",
    "plt.ylabel('Cost')\n",
    "plt.title(\"Regularised GD \")\n",
    "print(\"alpha = {} \\nlambda = {}\\\n",
    "      \\nNo of iterations = {}\\nWeight\".format(0.1, 500,120))\n",
    "print(w)\n",
    "\n",
    "p = avg_per_error(x,y,w)\n",
    "print(\"Percentage Error: \"+str(p)+\"%\")"
   ]
  },
  {
   "cell_type": "code",
   "execution_count": 27,
   "metadata": {},
   "outputs": [
    {
     "data": {
      "text/plain": [
       "array([[68121.5970696 ],\n",
       "       [ 5924.5024702 ],\n",
       "       [ 2509.39122415],\n",
       "       [ 5083.90182309],\n",
       "       [ 4134.68053841],\n",
       "       [ 3499.55878031]])"
      ]
     },
     "execution_count": 27,
     "metadata": {},
     "output_type": "execute_result"
    }
   ],
   "source": [
    "normal_eq(x,y,500)"
   ]
  },
  {
   "cell_type": "markdown",
   "metadata": {},
   "source": [
    "### Split the data to train & test (70 - 30 split)"
   ]
  },
  {
   "cell_type": "code",
   "execution_count": 28,
   "metadata": {},
   "outputs": [],
   "source": [
    "d = int(y.shape[0] * 0.7)\n",
    "\n",
    "xtrain = x[:d]\n",
    "xtest = x[d:]\n",
    "ytrain = y[:d]\n",
    "ytest = y[d:]"
   ]
  },
  {
   "cell_type": "code",
   "execution_count": 29,
   "metadata": {},
   "outputs": [
    {
     "name": "stdout",
     "output_type": "stream",
     "text": [
      "alpha = 0.1 \n",
      "lambda = 5              \n",
      "No of iterations = 1400\n",
      "Weight\n",
      "Percentage Error: 16.856108014081983%\n",
      "[[66954.15139819]\n",
      " [11118.97453782]\n",
      " [ 1461.7836887 ]\n",
      " [ 7708.61921823]\n",
      " [ 7012.12144157]\n",
      " [ 5226.8081968 ]]\n",
      "\n",
      "\n",
      "\n",
      "alpha = 0.01 \n",
      "lambda = 5              \n",
      "No of iterations = 1400\n",
      "Weight\n",
      "Percentage Error: 16.854097543024082%\n",
      "[[66948.29308629]\n",
      " [11113.3940267 ]\n",
      " [ 1476.44710858]\n",
      " [ 7710.70061841]\n",
      " [ 6989.06310189]\n",
      " [ 5227.49603794]]\n",
      "\n",
      "\n",
      "\n",
      "alpha = 0.1 \n",
      "lambda = 50              \n",
      "No of iterations = 1400\n",
      "Weight\n",
      "Percentage Error: 16.538940835618234%\n",
      "[[66652.46411744]\n",
      " [ 9959.84875001]\n",
      " [ 1992.43618065]\n",
      " [ 7248.26049551]\n",
      " [ 6053.31757321]\n",
      " [ 5093.50030294]]\n",
      "\n",
      "\n",
      "\n",
      "alpha = 0.01 \n",
      "lambda = 50              \n",
      "No of iterations = 1400\n",
      "Weight\n",
      "Percentage Error: 16.539756526334866%\n",
      "[[66650.60772699]\n",
      " [ 9958.25508283]\n",
      " [ 1995.65818941]\n",
      " [ 7248.83031353]\n",
      " [ 6048.15954863]\n",
      " [ 5093.7920346 ]]\n",
      "\n",
      "\n",
      "\n",
      "alpha = 0.1 \n",
      "lambda = 500              \n",
      "No of iterations = 1400\n",
      "Weight\n",
      "Percentage Error: 17.157806909634886%\n",
      "[[65421.78191356]\n",
      " [ 5195.1473443 ]\n",
      " [ 2480.70788684]\n",
      " [ 4582.15097306]\n",
      " [ 3055.88998735]\n",
      " [ 3507.57056227]]\n",
      "\n",
      "\n",
      "\n",
      "alpha = 0.01 \n",
      "lambda = 500              \n",
      "No of iterations = 1400\n",
      "Weight\n",
      "Percentage Error: 17.1578384139203%\n",
      "[[65421.70081799]\n",
      " [ 5195.13570376]\n",
      " [ 2480.70945547]\n",
      " [ 4582.15289988]\n",
      " [ 3055.8820588 ]\n",
      " [ 3507.57153416]]\n",
      "\n",
      "\n",
      "\n"
     ]
    }
   ],
   "source": [
    "for lamb in [5,50,500]:\n",
    "    for a in [0.1,0.01]:\n",
    "        cost_list, w = gradient_descend(xtrain, ytrain, alpha=a, lamb=lamb, iterations=1400)        \n",
    "        print(\"alpha = {} \\nlambda = {}\\\n",
    "              \\nNo of iterations = {}\\nWeight\".format(a, lamb,1400))\n",
    "        p = avg_per_error(xtest,ytest,w)\n",
    "        print(\"Percentage Error: \"+str(p)+\"%\")\n",
    "        print(w)\n",
    "        print('\\n\\n')"
   ]
  },
  {
   "cell_type": "markdown",
   "metadata": {},
   "source": [
    "# Without Normalisation"
   ]
  },
  {
   "cell_type": "code",
   "execution_count": 40,
   "metadata": {},
   "outputs": [
    {
     "data": {
      "text/html": [
       "<div>\n",
       "<style scoped>\n",
       "    .dataframe tbody tr th:only-of-type {\n",
       "        vertical-align: middle;\n",
       "    }\n",
       "\n",
       "    .dataframe tbody tr th {\n",
       "        vertical-align: top;\n",
       "    }\n",
       "\n",
       "    .dataframe thead th {\n",
       "        text-align: right;\n",
       "    }\n",
       "</style>\n",
       "<table border=\"1\" class=\"dataframe\">\n",
       "  <thead>\n",
       "    <tr style=\"text-align: right;\">\n",
       "      <th></th>\n",
       "      <th>bias</th>\n",
       "      <th>lotsize</th>\n",
       "      <th>bedrooms</th>\n",
       "      <th>bathrms</th>\n",
       "      <th>stories</th>\n",
       "      <th>garagepl</th>\n",
       "    </tr>\n",
       "  </thead>\n",
       "  <tbody>\n",
       "    <tr>\n",
       "      <th>0</th>\n",
       "      <td>1</td>\n",
       "      <td>5850</td>\n",
       "      <td>3</td>\n",
       "      <td>1</td>\n",
       "      <td>2</td>\n",
       "      <td>1</td>\n",
       "    </tr>\n",
       "    <tr>\n",
       "      <th>1</th>\n",
       "      <td>1</td>\n",
       "      <td>4000</td>\n",
       "      <td>2</td>\n",
       "      <td>1</td>\n",
       "      <td>1</td>\n",
       "      <td>0</td>\n",
       "    </tr>\n",
       "    <tr>\n",
       "      <th>2</th>\n",
       "      <td>1</td>\n",
       "      <td>3060</td>\n",
       "      <td>3</td>\n",
       "      <td>1</td>\n",
       "      <td>1</td>\n",
       "      <td>0</td>\n",
       "    </tr>\n",
       "    <tr>\n",
       "      <th>3</th>\n",
       "      <td>1</td>\n",
       "      <td>6650</td>\n",
       "      <td>3</td>\n",
       "      <td>1</td>\n",
       "      <td>2</td>\n",
       "      <td>0</td>\n",
       "    </tr>\n",
       "    <tr>\n",
       "      <th>4</th>\n",
       "      <td>1</td>\n",
       "      <td>6360</td>\n",
       "      <td>2</td>\n",
       "      <td>1</td>\n",
       "      <td>1</td>\n",
       "      <td>0</td>\n",
       "    </tr>\n",
       "  </tbody>\n",
       "</table>\n",
       "</div>"
      ],
      "text/plain": [
       "   bias  lotsize  bedrooms  bathrms  stories  garagepl\n",
       "0     1     5850         3        1        2         1\n",
       "1     1     4000         2        1        1         0\n",
       "2     1     3060         3        1        1         0\n",
       "3     1     6650         3        1        2         0\n",
       "4     1     6360         2        1        1         0"
      ]
     },
     "execution_count": 40,
     "metadata": {},
     "output_type": "execute_result"
    }
   ],
   "source": [
    "x = data.loc[:,['bias', 'lotsize', 'bedrooms', 'bathrms', 'stories', 'garagepl']]\n",
    "x['bias'] = 1\n",
    "x.head()"
   ]
  },
  {
   "cell_type": "code",
   "execution_count": 46,
   "metadata": {},
   "outputs": [
    {
     "name": "stdout",
     "output_type": "stream",
     "text": [
      "alpha = 0.1\n",
      "No of iterations = 25\n",
      "Weight\n",
      "[[4.62215313e+159]\n",
      " [2.80164643e+163]\n",
      " [1.39230982e+160]\n",
      " [6.13181925e+159]\n",
      " [8.49653072e+159]\n",
      " [3.79026750e+159]]\n",
      "Percentage Error: 2.2365330237218494e+164%\n"
     ]
    },
    {
     "name": "stderr",
     "output_type": "stream",
     "text": [
      "/home/aadithya/anaconda3/lib/python3.7/site-packages/ipykernel_launcher.py:3: RuntimeWarning: invalid value encountered in double_scalars\n",
      "  This is separate from the ipykernel package so we can avoid doing imports until\n"
     ]
    },
    {
     "data": {
      "image/png": "[encoded data removed]",
      "text/plain": [
       "<Figure size 288x216 with 1 Axes>"
      ]
     },
     "metadata": {
      "needs_background": "light"
     },
     "output_type": "display_data"
    }
   ],
   "source": [
    "cost_list, w = gradient_descend(x, y, alpha=0.1, lamb=0, iterations=25)\n",
    "plt.figure(figsize=(4,3))\n",
    "plt.plot(cost_list)\n",
    "plt.xlabel('Iterations')\n",
    "plt.ylabel('Cost')\n",
    "plt.title(\"GD \")\n",
    "print(\"alpha = {}\\nNo of iterations = {}\\nWeight\".format(0.1,25))\n",
    "print(w)\n",
    "\n",
    "p = avg_per_error(x,y,w)\n",
    "print(\"Percentage Error: \"+str(p)+\"%\")"
   ]
  },
  {
   "cell_type": "code",
   "execution_count": 47,
   "metadata": {},
   "outputs": [
    {
     "name": "stdout",
     "output_type": "stream",
     "text": [
      "[[-2.06364013e+03]\n",
      " [ 4.73343521e+00]\n",
      " [ 2.38848765e+03]\n",
      " [ 1.61480605e+04]\n",
      " [ 7.87944111e+03]\n",
      " [ 5.37195329e+03]]\n"
     ]
    }
   ],
   "source": [
    "print(normal_eq(x,y,0))"
   ]
  },
  {
   "cell_type": "code",
   "execution_count": null,
   "metadata": {},
   "outputs": [],
   "source": []
  }
 ],
 "metadata": {
  "kernelspec": {
   "display_name": "Python 3",
   "language": "python",
   "name": "python3"
  },
  "language_info": {
   "codemirror_mode": {
    "name": "ipython",
    "version": 3
   },
   "file_extension": ".py",
   "mimetype": "text/x-python",
   "name": "python",
   "nbconvert_exporter": "python",
   "pygments_lexer": "ipython3",
   "version": "3.7.1"
  }
 },
 "nbformat": 4,
 "nbformat_minor": 2
}
