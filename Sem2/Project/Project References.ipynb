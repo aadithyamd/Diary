{
 "cells": [
  {
   "cell_type": "markdown",
   "metadata": {},
   "source": [
    "# References"
   ]
  },
  {
   "cell_type": "markdown",
   "metadata": {},
   "source": [
    "### I. Delving Deep into Rectifiers: Surpassing Human-Level Performance on ImageNet Classification\n",
    "\n",
    "####     authors: Kaiming He, Xiangyu Zhang, Shaoqing Ren, Jian Sun \n",
    "\n",
    "Link : https://arxiv.org/abs/1502.01852"
   ]
  },
  {
   "cell_type": "markdown",
   "metadata": {},
   "source": [
    "## Concepts \n",
    "Weight initialisation techniques are borrowed from this paper\n",
    "\n",
    "### 1) PRelu Activation function\n",
    "\n",
    "\\begin{equation}\\label{eq:prelu}\n",
    "f(y_i) = \\begin{cases} y_i, & \\mbox{if } y_i > 0 \\\\ a_i y_i, & \\mbox{if } y_i \\leq 0 \\end{cases}.\n",
    "\\end{equation}\n",
    "\n",
    "where $a_i$ is a parameter which is learned\n",
    "\n",
    "### 2) Weight Initialisation\n",
    "\n",
    "A proper initialization method should avoid reducing or magnifying the magnitudes of input signals exponentially. A sufficient condition to ensure this is:\n",
    "\n",
    "\\begin{equation}\n",
    "\\frac{1}{2}n_l Var[w_{l}]=1, \\quad \n",
    "\\end{equation}\n",
    "\n",
    "This leads to a zero-mean Gaussian distribution whose standard deviation (std) is $\\sqrt{2/{n_l}}$. We also initialize b = 0.\n"
   ]
  },
  {
   "cell_type": "code",
   "execution_count": null,
   "metadata": {},
   "outputs": [],
   "source": []
  }
 ],
 "metadata": {
  "kernelspec": {
   "display_name": "Python 3",
   "language": "python",
   "name": "python3"
  },
  "language_info": {
   "codemirror_mode": {
    "name": "ipython",
    "version": 3
   },
   "file_extension": ".py",
   "mimetype": "text/x-python",
   "name": "python",
   "nbconvert_exporter": "python",
   "pygments_lexer": "ipython3",
   "version": "3.7.1"
  }
 },
 "nbformat": 4,
 "nbformat_minor": 2
}
